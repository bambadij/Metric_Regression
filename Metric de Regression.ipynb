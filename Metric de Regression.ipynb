{
 "cells": [
  {
   "cell_type": "markdown",
   "id": "90813166",
   "metadata": {},
   "source": [
    "### METRIQUE DE REGRESSION"
   ]
  },
  {
   "cell_type": "code",
   "execution_count": 1,
   "id": "484d01ef",
   "metadata": {},
   "outputs": [],
   "source": [
    "# MSE \n",
    "import numpy as np\n",
    "import matplotlib.pyplot as plt\n",
    "from sklearn.metrics import *"
   ]
  },
  {
   "cell_type": "code",
   "execution_count": 2,
   "id": "fbc30343",
   "metadata": {},
   "outputs": [
    {
     "name": "stdout",
     "output_type": "stream",
     "text": [
      "MAE (Mean absolute error) 167.66666666666666\n",
      "MSE(Mean Squared error) 166004.66666666666\n",
      "RMSE (Root Mean Squared Error) 407.43670265044443\n",
      "median abs err : 2.0\n"
     ]
    }
   ],
   "source": [
    "y=np.array([1,2,2,3,5,2])\n",
    "y_pred =np.array([5,2,2,5,7,1000])\n",
    "\n",
    "print('MAE (Mean absolute error)',mean_absolute_error(y,y_pred))\n",
    "print('MSE(Mean Squared error)',mean_squared_error(y,y_pred))\n",
    "print('RMSE (Root Mean Squared Error)',np.sqrt(mean_squared_error(y,y_pred)))\n",
    "print('median abs err :',median_absolute_error(y,y_pred))"
   ]
  },
  {
   "cell_type": "markdown",
   "id": "73f39455",
   "metadata": {},
   "source": [
    "#### eg Boston dataset"
   ]
  },
  {
   "cell_type": "code",
   "execution_count": 3,
   "id": "273bcc47",
   "metadata": {},
   "outputs": [],
   "source": [
    "from sklearn.datasets import fetch_california_housing\n",
    "from sklearn.linear_model import LinearRegression\n",
    "from sklearn.model_selection import cross_val_score"
   ]
  },
  {
   "cell_type": "code",
   "execution_count": 4,
   "id": "08f73357",
   "metadata": {},
   "outputs": [],
   "source": [
    "housing = fetch_california_housing()\n"
   ]
  },
  {
   "cell_type": "code",
   "execution_count": 5,
   "id": "27a6ebf2",
   "metadata": {},
   "outputs": [
    {
     "data": {
      "image/png": "[encoded data removed]",
      "text/plain": [
       "<Figure size 640x480 with 1 Axes>"
      ]
     },
     "metadata": {},
     "output_type": "display_data"
    }
   ],
   "source": [
    "X= housing.data\n",
    "y =housing.target\n",
    "\n",
    "model =LinearRegression()\n",
    "model.fit(X,y)\n",
    "model.score(X,y)\n",
    "y_pred =model.predict(X)\n",
    "\n",
    "err_hist =np.abs(y-y_pred)\n",
    "plt.hist(err_hist,bins=50)\n",
    "\n",
    "plt.show()"
   ]
  },
  {
   "cell_type": "markdown",
   "id": "e991a799",
   "metadata": {},
   "source": [
    "### commentaire \n",
    "##### sur toutes les predictions 4000 ont une erreur plus proche de 0"
   ]
  },
  {
   "cell_type": "markdown",
   "id": "6dce0779",
   "metadata": {},
   "source": [
    "### Coefficeint de Determination"
   ]
  },
  {
   "cell_type": "markdown",
   "id": "0d549e19",
   "metadata": {},
   "source": [
    "#### si le model est proche a zero le model est non performant si il est loin de zero le model est performant"
   ]
  },
  {
   "cell_type": "code",
   "execution_count": 6,
   "id": "2225c766",
   "metadata": {},
   "outputs": [
    {
     "data": {
      "text/plain": [
       "0.606232685199805"
      ]
     },
     "execution_count": 6,
     "metadata": {},
     "output_type": "execute_result"
    }
   ],
   "source": [
    "model.score(X,y)"
   ]
  },
  {
   "cell_type": "markdown",
   "id": "5494d50e",
   "metadata": {},
   "source": [
    "##### ici le modele decrit 60% des variations du prix de l'immobilier"
   ]
  },
  {
   "cell_type": "code",
   "execution_count": 7,
   "id": "a8dfca09",
   "metadata": {},
   "outputs": [
    {
     "data": {
      "text/plain": [
       "array([-0.57887213, -0.50877351, -0.56305949])"
      ]
     },
     "execution_count": 7,
     "metadata": {},
     "output_type": "execute_result"
    }
   ],
   "source": [
    "\n",
    "cross_val_score(LinearRegression(),X,y,cv=3,scoring='neg_mean_absolute_error')"
   ]
  },
  {
   "cell_type": "code",
   "execution_count": null,
   "id": "ee5c86cc",
   "metadata": {},
   "outputs": [],
   "source": []
  }
 ],
 "metadata": {
  "kernelspec": {
   "display_name": "Python 3 (ipykernel)",
   "language": "python",
   "name": "python3"
  },
  "language_info": {
   "codemirror_mode": {
    "name": "ipython",
    "version": 3
   },
   "file_extension": ".py",
   "mimetype": "text/x-python",
   "name": "python",
   "nbconvert_exporter": "python",
   "pygments_lexer": "ipython3",
   "version": "3.10.11"
  }
 },
 "nbformat": 4,
 "nbformat_minor": 5
}
